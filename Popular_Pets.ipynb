{
  "nbformat": 4,
  "nbformat_minor": 0,
  "metadata": {
    "colab": {
      "name": "Popular Pets.ipynb",
      "provenance": [],
      "authorship_tag": "ABX9TyM1HaAOcWwwtp3Z/IoEG2/N",
      "include_colab_link": true
    },
    "kernelspec": {
      "name": "python3",
      "display_name": "Python 3"
    },
    "language_info": {
      "name": "python"
    }
  },
  "cells": [
    {
      "cell_type": "markdown",
      "metadata": {
        "id": "view-in-github",
        "colab_type": "text"
      },
      "source": [
        "<a href=\"https://colab.research.google.com/github/natnew/Python-Projects-Popular-Pets/blob/main/Popular_Pets.ipynb\" target=\"_parent\"><img src=\"https://colab.research.google.com/assets/colab-badge.svg\" alt=\"Open In Colab\"/></a>"
      ]
    },
    {
      "cell_type": "markdown",
      "metadata": {
        "id": "GLyG-4T136rs"
      },
      "source": [
        "# Import Libraries"
      ]
    },
    {
      "cell_type": "markdown",
      "metadata": {
        "id": "pG0mOtpz4hIo"
      },
      "source": [
        "Create pie charts and bar graphs from data that you collect from members of your Code Club."
      ]
    },
    {
      "cell_type": "code",
      "metadata": {
        "id": "Cwv7cgvD3CeT"
      },
      "source": [
        "import matplotlib.pyplot as plt"
      ],
      "execution_count": 1,
      "outputs": []
    },
    {
      "cell_type": "code",
      "metadata": {
        "id": "N2bocbKI3MHe"
      },
      "source": [
        "import numpy as np"
      ],
      "execution_count": 2,
      "outputs": []
    },
    {
      "cell_type": "code",
      "metadata": {
        "colab": {
          "base_uri": "https://localhost:8080/",
          "height": 248
        },
        "id": "q0ZOYjaQ3Wpt",
        "outputId": "9eef24bb-17b1-473c-8364-d22d229a8e52"
      },
      "source": [
        "y = np.array([35, 25, 25, 15, 2])\n",
        "mylabels = [\"Cat\", \"Dog\", \"Hampster\", \"Fish\", \"Snake\"]\n",
        "\n",
        "plt.pie(y, labels = mylabels)\n",
        "plt.show() "
      ],
      "execution_count": 6,
      "outputs": [
        {
          "output_type": "display_data",
          "data": {
            "image/png": "[encoded data removed]",
            "text/plain": [
              "<Figure size 432x288 with 1 Axes>"
            ]
          },
          "metadata": {}
        }
      ]
    },
    {
      "cell_type": "markdown",
      "metadata": {
        "id": "XwGRJfu34AHP"
      },
      "source": [
        "# Edit Graph: Explode"
      ]
    },
    {
      "cell_type": "code",
      "metadata": {
        "colab": {
          "base_uri": "https://localhost:8080/",
          "height": 248
        },
        "id": "0ihU4M5U3kZd",
        "outputId": "6ecc3356-65b7-4bc6-af42-b6b41404b819"
      },
      "source": [
        "y = np.array([35, 25, 25, 15, 2])\n",
        "mylabels = [\"Cat\", \"Dog\", \"Hampster\", \"Fish\", \"Snake\"]\n",
        "myexplode = [0.1, 0, 0, 0, 0]\n",
        "\n",
        "plt.pie(y, labels = mylabels, explode = myexplode)\n",
        "plt.show() "
      ],
      "execution_count": 10,
      "outputs": [
        {
          "output_type": "display_data",
          "data": {
            "image/png": "[encoded data removed]",
            "text/plain": [
              "<Figure size 432x288 with 1 Axes>"
            ]
          },
          "metadata": {}
        }
      ]
    },
    {
      "cell_type": "markdown",
      "metadata": {
        "id": "TUfq2hB84pf6"
      },
      "source": [
        "# Create Bar Charts"
      ]
    },
    {
      "cell_type": "code",
      "metadata": {
        "colab": {
          "base_uri": "https://localhost:8080/",
          "height": 265
        },
        "id": "g7Fw_kyG4uDw",
        "outputId": "8d5d07fe-7c27-4f03-c99a-471bbd6a5cf7"
      },
      "source": [
        "import matplotlib.pyplot as plt\n",
        "import numpy as np\n",
        "\n",
        "x = np.array([\"Cat\", \"Dog\", \"Hampster\", \"Fish\", \"Snake\"])\n",
        "y = np.array([3, 8, 1, 10, 4])\n",
        "\n",
        "plt.bar(x,y)\n",
        "plt.show()"
      ],
      "execution_count": 13,
      "outputs": [
        {
          "output_type": "display_data",
          "data": {
            "image/png": "[encoded data removed]",
            "text/plain": [
              "<Figure size 432x288 with 1 Axes>"
            ]
          },
          "metadata": {
            "needs_background": "light"
          }
        }
      ]
    },
    {
      "cell_type": "markdown",
      "metadata": {
        "id": "dFuMGUbh45xc"
      },
      "source": [
        "# Edit Graph: Colour"
      ]
    },
    {
      "cell_type": "code",
      "metadata": {
        "colab": {
          "base_uri": "https://localhost:8080/",
          "height": 265
        },
        "id": "cQDFQPbZ49mU",
        "outputId": "df2968b0-667c-421c-9aa2-deec2e25f0e7"
      },
      "source": [
        "import matplotlib.pyplot as plt\n",
        "import numpy as np\n",
        "\n",
        "x = np.array([\"Cat\", \"Dog\", \"Hampster\", \"Fish\", \"Snake\"])\n",
        "y = np.array([3, 8, 1, 10, 4])\n",
        "\n",
        "plt.bar(x,y, color = \"red\")\n",
        "plt.show()"
      ],
      "execution_count": 14,
      "outputs": [
        {
          "output_type": "display_data",
          "data": {
            "image/png": "[encoded data removed]",
            "text/plain": [
              "<Figure size 432x288 with 1 Axes>"
            ]
          },
          "metadata": {
            "needs_background": "light"
          }
        }
      ]
    },
    {
      "cell_type": "markdown",
      "metadata": {
        "id": "jAy7xbUD5G7i"
      },
      "source": [
        "# Edit Graph: Width"
      ]
    },
    {
      "cell_type": "code",
      "metadata": {
        "colab": {
          "base_uri": "https://localhost:8080/",
          "height": 265
        },
        "id": "hQNzgng15MED",
        "outputId": "da65d7f5-6829-462d-e005-5d7c3ebb5030"
      },
      "source": [
        "import matplotlib.pyplot as plt\n",
        "import numpy as np\n",
        "\n",
        "x = np.array([\"Cat\", \"Dog\", \"Hampster\", \"Fish\", \"Snake\"])\n",
        "y = np.array([3, 8, 1, 10, 4])\n",
        "\n",
        "plt.bar(x,y, color = \"green\", width = 0.2)\n",
        "plt.show()"
      ],
      "execution_count": 16,
      "outputs": [
        {
          "output_type": "display_data",
          "data": {
            "image/png": "[encoded data removed]",
            "text/plain": [
              "<Figure size 432x288 with 1 Axes>"
            ]
          },
          "metadata": {
            "needs_background": "light"
          }
        }
      ]
    },
    {
      "cell_type": "markdown",
      "metadata": {
        "id": "GQQiK8vc5aZx"
      },
      "source": [
        "# Edit Graph: Rotate"
      ]
    },
    {
      "cell_type": "code",
      "metadata": {
        "colab": {
          "base_uri": "https://localhost:8080/",
          "height": 265
        },
        "id": "GrU93jPt5cgu",
        "outputId": "198f230d-1e09-49f8-f8f8-ed4486546e8f"
      },
      "source": [
        "import matplotlib.pyplot as plt\n",
        "import numpy as np\n",
        "\n",
        "x = np.array([\"Cat\", \"Dog\", \"Hampster\", \"Fish\", \"Snake\"])\n",
        "y = np.array([3, 8, 1, 10, 4])\n",
        "\n",
        "plt.barh(x,y)\n",
        "plt.show()"
      ],
      "execution_count": 18,
      "outputs": [
        {
          "output_type": "display_data",
          "data": {
            "image/png": "[encoded data removed]",
            "text/plain": [
              "<Figure size 432x288 with 1 Axes>"
            ]
          },
          "metadata": {
            "needs_background": "light"
          }
        }
      ]
    },
    {
      "cell_type": "markdown",
      "metadata": {
        "id": "uuukKK4f5uzW"
      },
      "source": [
        "# Other Graphs"
      ]
    },
    {
      "cell_type": "code",
      "metadata": {
        "colab": {
          "base_uri": "https://localhost:8080/",
          "height": 265
        },
        "id": "TOgGn5Cw5x8_",
        "outputId": "4dc2ed74-d9bc-4553-f5b8-70fea40765be"
      },
      "source": [
        "import matplotlib.pyplot as plt\n",
        "import numpy as np\n",
        "\n",
        "x = np.array([1, 2, 3, 4, 5])\n",
        "y = np.array([3, 8, 1, 10, 4])\n",
        "\n",
        "plt.scatter(x, y)\n",
        "plt.show()"
      ],
      "execution_count": 20,
      "outputs": [
        {
          "output_type": "display_data",
          "data": {
            "image/png": "[encoded data removed]",
            "text/plain": [
              "<Figure size 432x288 with 1 Axes>"
            ]
          },
          "metadata": {
            "needs_background": "light"
          }
        }
      ]
    }
  ]
}